{
  "cells": [
    {
      "metadata": {
        "_uuid": "3fd8e11c1ff348d6b1579a18fe737cec265e04aa",
        "_cell_guid": "60cdff95-e165-4ef7-82bb-be2d3d799248"
      },
      "cell_type": "markdown",
      "source": "<h1 align=\"center\"> Lending Club Loan Analysis </h1> <br>"
    },
    {
      "metadata": {
        "_uuid": "a7b75f3526a75485e089933ae775aec5555fe2ce",
        "_cell_guid": "07ed872d-6dbb-4c7e-9244-7f565e0c7d38"
      },
      "cell_type": "markdown",
      "source": "## General Information:\n"
    },
    {
      "metadata": {
        "_uuid": "d65b7b14701cf9c42ec8cbb1ecfdfe6ab3358ae7",
        "_cell_guid": "428e7e85-93ed-45b1-aa24-cba4a771c2f3",
        "trusted": true
      },
      "cell_type": "code",
      "source": "import pandas as pd\nimport seaborn as sns\nimport numpy as np\nimport matplotlib.pyplot as plt\n\n\nfrom plotly.offline import  init_notebook_mode, plot\ninit_notebook_mode(connected=True)\n\n% matplotlib inline\n\ndf = pd.read_csv('../input/loan.csv', low_memory=False)\n\n# Copy of the dataframe\noriginal_df = df.copy()\n\ndf.head()",
      "execution_count": null,
      "outputs": []
    },
    {
      "metadata": {
        "_uuid": "0ee2926e3668a0c3beb7b06ce9f14809c1e37053",
        "_cell_guid": "7e81133a-2dbe-4126-8ad6-e1c84efa915f",
        "_kg_hide-input": true,
        "trusted": true
      },
      "cell_type": "code",
      "source": "df.info()",
      "execution_count": null,
      "outputs": []
    },
    {
      "metadata": {
        "_uuid": "0ff8dc19af3f2ad57e2c9c8c02a2047fb502bd1e",
        "_cell_guid": "f054ecf3-735e-4ff8-a701-9210507e1cac",
        "_kg_hide-input": true,
        "trusted": true
      },
      "cell_type": "code",
      "source": "# Replace the name of some columns\ndf = df.rename(columns={\"loan_amnt\": \"loan_amount\", \"funded_amnt\": \"funded_amount\", \"funded_amnt_inv\": \"investor_funds\",\n                       \"int_rate\": \"interest_rate\", \"annual_inc\": \"annual_income\"})\n\n# Drop irrelevant columns\ndf.drop(['id', 'member_id', 'emp_title', 'url', 'desc', 'zip_code', 'title'], axis=1, inplace=True)\n",
      "execution_count": null,
      "outputs": []
    },
    {
      "metadata": {
        "_uuid": "ab357844a9985a3783a813423e08f5166830203b",
        "_cell_guid": "9390f158-796f-4f69-b145-b1d2a5584745"
      },
      "cell_type": "markdown",
      "source": "## Similar Distributions:\n<a id=\"similar_distributions\"></a>\nWe will start by exploring the distribution of the loan amounts and see when did the loan amount issued increased significantly. <br>\n\n<h4> Summary: </h4><br>\n<ul>\n<li> Most of the <b>loans issued</b> were in the range of 10,000 to 20,000 USD. </li>\n<li> The <b>year of 2015</b> was the year were most loans were issued.</li> \n<li> Loans were issued in an <b>incremental manner</b>. (Possible due to a recovery in the U.S economy) </li>\n<li> The loans <b>applied</b> by potential borrowers, the amount <b>issued</b> to the borrowers  are similarly distributed, <b>meaning</b> that it is most likely that qualified borrowers are going to get the loan they had applied for. </li>\n\n</ul>\n\n\n\n"
    },
    {
      "metadata": {
        "_uuid": "dca1e813e0820c7e422c4eadf66e2a71fda28b94",
        "_cell_guid": "fe7b0217-b372-444e-9f6c-d1ed5fe5259c",
        "_kg_hide-input": true,
        "trusted": true
      },
      "cell_type": "code",
      "source": "fig, ax = plt.subplots(1, 2, figsize=(16,5))\n\n\nloan_amount = df[\"loan_amount\"].values\nfunded_amount = df[\"funded_amount\"].values\n\n\nsns.distplot(loan_amount, ax=ax[0], color=\"#F7522F\")\nax[0].set_title(\"Loan Applied by the Borrower\", fontsize=14)\nsns.distplot(funded_amount, ax=ax[1], color=\"#2F8FF7\")\nax[1].set_title(\"Amount Funded by the Lender\", fontsize=14)",
      "execution_count": null,
      "outputs": []
    },
    {
      "metadata": {
        "_uuid": "de70a0eb750a61d68838339b3bf60f9136585c29",
        "_cell_guid": "b0d59461-2e0f-44e7-bb9c-7dc57934b488",
        "_kg_hide-input": true,
        "trusted": true
      },
      "cell_type": "code",
      "source": "# Lets' transform the issue dates by year.\ndf['issue_d'].head()\ndt_series = pd.to_datetime(df['issue_d'])\ndf['year'] = dt_series.dt.year",
      "execution_count": null,
      "outputs": []
    },
    {
      "metadata": {
        "_uuid": "04a7f159ba7620fd10780e7ff9c1320f428f83b5",
        "_cell_guid": "61bff410-2904-4f17-93e5-c724a778e019",
        "_kg_hide-input": true,
        "trusted": true,
        "scrolled": false
      },
      "cell_type": "code",
      "source": "# The year of 2015 was the year were the highest amount of loans were issued \n# This is an indication that the economy is quiet recovering itself.\nplt.figure(figsize=(12,8))\nsns.barplot('year', 'loan_amount', data=df, palette='tab10')\nplt.title('Issuance of Loans', fontsize=16)\nplt.xlabel('Year', fontsize=14)\nplt.ylabel('Average loan amount issued', fontsize=14)",
      "execution_count": null,
      "outputs": []
    },
    {
      "metadata": {
        "_uuid": "cc873fd882cba9ee89a01f64ce9b390fdc3b9f25",
        "_cell_guid": "68557789-fb4c-43d9-a5c5-f588085aace7"
      },
      "cell_type": "markdown",
      "source": "<h1 align=\"center\"> Good Loans vs Bad Loans: </h1>\n<h2>Types of Loans: </h2>\n<a id=\"types_of_loans\"></a>\n<br><br>\nIn this section, we will see what is the amount of bad loans Lending Club has declared so far, of course we have to understand that there are still loans that are at a risk of defaulting in the future. \n\n<h4> Summary: </h4>\n<ul>\n<li> Currently, <b>bad loans</b> consist 7.60% of total loans but remember that we still have <b>current loans</b> which have the risk of becoming bad loans. (So this percentage is subjected to possible changes.) </li>\n</ul>"
    },
    {
      "metadata": {
        "_uuid": "f6cd906337ab70e068887b011bd29dd1e628b0f1",
        "_cell_guid": "85412154-d30d-4f7f-96b2-d41b6d94ab74",
        "_kg_hide-input": true,
        "trusted": true
      },
      "cell_type": "code",
      "source": "df[\"loan_status\"].value_counts()",
      "execution_count": null,
      "outputs": []
    },
    {
      "metadata": {
        "_uuid": "6fd3553700f3eb4889e88517d2b8e5b7d904872e",
        "_cell_guid": "61d96d6a-f3f8-4a34-a4c8-3d77c4ebee31",
        "_kg_hide-input": true,
        "trusted": true
      },
      "cell_type": "code",
      "source": "# Determining the loans that are bad from loan_status column\n\nbad_loan = [\"Charged Off\", \"Default\", \"Does not meet the credit policy. Status:Charged Off\", \"In Grace Period\", \n            \"Late (16-30 days)\", \"Late (31-120 days)\"]\n\n\ndf['loan_condition'] = np.nan\n\ndef loan_condition(status):\n    if status in bad_loan:\n        return 'Bad Loan'\n    else:\n        return 'Good Loan'\n    \n    \ndf['loan_condition'] = df['loan_status'].apply(loan_condition)",
      "execution_count": null,
      "outputs": []
    },
    {
      "metadata": {
        "_uuid": "596bd11ee859fec86ca3a4469b6f98a7f13f4035",
        "_cell_guid": "ac878d77-5702-4daf-adfe-d61657043e90",
        "_kg_hide-input": true,
        "trusted": true
      },
      "cell_type": "code",
      "source": "f, ax = plt.subplots(1,2, figsize=(16,8))\n\ncolors = [\"#3791D7\", \"#D72626\"]\nlabels =\"Good Loans\", \"Bad Loans\"\n\nplt.suptitle('Information on Loan Conditions', fontsize=20)\n\ndf[\"loan_condition\"].value_counts().plot.pie(explode=[0,0.25], autopct='%1.2f%%', ax=ax[0], shadow=True, colors=colors, \n                                             labels=labels, fontsize=12, startangle=70)\n\n\n# ax[0].set_title('State of Loan', fontsize=16)\nax[0].set_ylabel('% of Condition of Loans', fontsize=14)\n\n# sns.countplot('loan_condition', data=df, ax=ax[1], palette=colors)\n# ax[1].set_title('Condition of Loans', fontsize=20)\n# ax[1].set_xticklabels(['Good', 'Bad'], rotation='horizontal')\npalette = [\"#3791D7\", \"#E01E1B\"]\n\nsns.barplot(x=\"year\", y=\"loan_amount\", hue=\"loan_condition\", data=df, palette=palette, estimator=lambda x: len(x) / len(df) * 100)\nax[1].set(ylabel=\"(%)\")",
      "execution_count": null,
      "outputs": []
    }
  ],
  "metadata": {
    "kernelspec": {
      "display_name": "Python 3",
      "language": "python",
      "name": "python3"
    },
    "language_info": {
      "name": "python",
      "version": "3.6.6",
      "mimetype": "text/x-python",
      "codemirror_mode": {
        "name": "ipython",
        "version": 3
      },
      "pygments_lexer": "ipython3",
      "nbconvert_exporter": "python",
      "file_extension": ".py"
    }
  },
  "nbformat": 4,
  "nbformat_minor": 1
}